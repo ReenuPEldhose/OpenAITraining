{
  "cells": [
    {
      "cell_type": "markdown",
      "metadata": {
        "id": "view-in-github",
        "colab_type": "text"
      },
      "source": [
        "<a href=\"https://colab.research.google.com/github/ReenuPEldhose/OpenAITraining/blob/main/Pharyngitis_Detection_in_Kids_code_generation.ipynb\" target=\"_parent\"><img src=\"https://colab.research.google.com/assets/colab-badge.svg\" alt=\"Open In Colab\"/></a>"
      ]
    },
    {
      "cell_type": "markdown",
      "source": [
        "Generate Comments for Pharyngitis_Detection_in_Kids code"
      ],
      "metadata": {
        "id": "iGyjvV6Ygrf2"
      }
    },
    {
      "cell_type": "code",
      "metadata": {
        "id": "-o6K3kUKmZN2",
        "colab": {
          "base_uri": "https://localhost:8080/"
        },
        "outputId": "c0f074f2-affb-47e7-c082-80f19c0371dc"
      },
      "source": [
        "def create_pharyngitis_detection_in_kids_file():\n",
        "    code = \"\"\"\n",
        "import pandas as pd\n",
        "import matplotlib.pyplot as plt\n",
        "data = pd.read_csv('pharyngitis.csv')\n",
        "\n",
        "data.info()\n",
        "\n",
        "data[\"pain\"].fillna( method ='ffill', inplace = True)\n",
        "data[\"swollenadp\"].fillna( method ='ffill', inplace = True)\n",
        "data[\"tender\"].fillna( method ='ffill', inplace = True)\n",
        "data[\"tonsillarswelling\"].fillna( method ='ffill', inplace = True)\n",
        "data[\"temperature\"].fillna( method ='ffill', inplace = True)\n",
        "data[\"sudden\"].fillna( method ='ffill', inplace = True)\n",
        "data[\"cough\"].fillna( method ='ffill', inplace = True)\n",
        "data[\"exudate\"].fillna( method ='ffill', inplace = True)\n",
        "data[\"rhinorrhea\"].fillna( method ='ffill', inplace = True)\n",
        "data[\"conjunctivitis\"].fillna( method ='ffill', inplace = True)\n",
        "data[\"headache\"].fillna( method ='ffill', inplace = True)\n",
        "data[\"erythema\"].fillna( method ='ffill', inplace = True)\n",
        "data[\"petechiae\"].fillna( method ='ffill', inplace = True)\n",
        "data[\"abdopain\"].fillna( method ='ffill', inplace = True)\n",
        "data[\"diarrhea\"].fillna( method ='ffill', inplace = True)\n",
        "data[\"nauseavomit\"].fillna( method ='ffill', inplace = True)\n",
        "data[\"scarlet\"].fillna( method ='ffill', inplace = True)\n",
        "\n",
        "data.info()\n",
        "\n",
        "data.isna().sum()\n",
        "\n",
        "data.head()\n",
        "\n",
        "normalized_data=(data-data.mean())/data.std()\n",
        "\n",
        "import seaborn as sns\n",
        "inp_cols = ['age_y', 'radt', 'pain', 'swollenadp',\n",
        "       'tender', 'tonsillarswelling', 'exudate', 'temperature',\n",
        "       'sudden', 'cough', 'rhinorrhea', 'conjunctivitis', 'headache',\n",
        "       'erythema', 'petechiae', 'abdopain', 'diarrhea', 'nauseavomit', 'scarlet']\n",
        "cr = normalized_data[inp_cols].corr()\n",
        "sns.heatmap(cr, cmap='coolwarm')\n",
        "\n",
        "y = data['radt']\n",
        "y.head()\n",
        "\n",
        "x = normalized_data.loc[:, normalized_data.columns != 'radt']\n",
        "x.head()\n",
        "\n",
        "x.columns\n",
        "\n",
        "\n",
        "\n",
        "from sklearn.model_selection import train_test_split\n",
        "xtrain,xtest,ytrain,ytest = train_test_split(x,y,\n",
        "                                      random_state=42,\n",
        "                                      test_size=0.2)\n",
        "\n",
        "stats = xtrain.describe().T\n",
        "stats\n",
        "\n",
        "ytrain[:20]\n",
        "\n",
        "from sklearn.naive_bayes import GaussianNB\n",
        "from sklearn.neighbors import KNeighborsClassifier\n",
        "from sklearn.svm import LinearSVC, SVC\n",
        "from sklearn.tree import DecisionTreeClassifier\n",
        "from sklearn.ensemble import RandomForestClassifier\n",
        "from sklearn.linear_model import LogisticRegression\n",
        "\n",
        "all_algos = {\n",
        "    \"logisitc regression\": LogisticRegression(),\n",
        "    \"Naive Bayes\": GaussianNB(),\n",
        "    \"Support Vectors with Linear Kernel\": SVC(kernel='linear'),\n",
        "    \"Support Vectors with RBF kernel\": SVC(kernel='rbf'),\n",
        "    \"Linear Support Vectors\": LinearSVC(),\n",
        "    \"Decision Tree50\": DecisionTreeClassifier(max_depth=50),\n",
        "    \"Decision Tree75\": DecisionTreeClassifier(max_depth=75),\n",
        "    \"Decision Tree25\": DecisionTreeClassifier(max_depth=25),\n",
        "    \"Decision Tree125\": DecisionTreeClassifier(max_depth=125),\n",
        "    \"Decision Tree250\": DecisionTreeClassifier(max_depth=250),\n",
        "    \"Neighbors\": KNeighborsClassifier(),\n",
        "    \"Random Forest100\": RandomForestClassifier(),\n",
        "    \"Random Forest50\": RandomForestClassifier(n_estimators=50),\n",
        "    \"Random Forest500\": RandomForestClassifier(n_estimators=500),\n",
        "    \"Random Forest250\": RandomForestClassifier(n_estimators=250)\n",
        "}\n",
        "\n",
        "from sklearn.metrics import f1_score\n",
        "all_acc = []\n",
        "all_f1_score = []\n",
        "best_acc = 0.0\n",
        "best_f1_score = 0.0\n",
        "best_model_by_acc = \"\"\n",
        "best_model_by_f1 = \"\"\n",
        "for algoname, algo in all_algos.items():\n",
        "  print('*********')\n",
        "  print('Beginning to train ', algoname, ' model')\n",
        "  algo.fit(xtrain,ytrain)\n",
        "  predictions = algo.predict(xtest)\n",
        "  acc_score = algo.score(xtest, ytest)\n",
        "  f1 = f1_score(predictions, ytest, average='binary')\n",
        "  all_acc.append(acc_score)\n",
        "  all_f1_score.append(f1)\n",
        "  print('Model Acc Score = ', acc_score*100,'%', end=\" \")\n",
        "  print(', Model F1 Score = ', f1)\n",
        "  if acc_score > best_acc:\n",
        "    best_acc = acc_score\n",
        "    best_model_by_acc = algoname\n",
        "  if f1 > best_f1_score:\n",
        "    best_f1_score = f1\n",
        "    best_model_by_f1 = algoname\n",
        "\n",
        "best_model_by_acc\n",
        "\n",
        "best_acc\n",
        "\n",
        "best_model_by_f1\n",
        "\n",
        "best_f1_score\n",
        "\"\"\"\n",
        "\n",
        "    with open('pharyngitis_detection_in_kids.py', 'w') as file:\n",
        "        file.write(code)\n",
        "\n",
        "    print(\"Created and wrote to file: pharyngitis_detection_in_kids.py\")\n",
        "\n",
        "if __name__ == \"__main__\":\n",
        "    create_pharyngitis_detection_in_kids_file()"
      ],
      "execution_count": 16,
      "outputs": [
        {
          "output_type": "stream",
          "name": "stdout",
          "text": [
            "Created and wrote to file: pharyngitis_detection_in_kids.py\n"
          ]
        }
      ]
    },
    {
      "cell_type": "markdown",
      "metadata": {
        "id": "JIDs1Xp2mZN5"
      },
      "source": [
        "## Explanation\n",
        "\n",
        "1. **Importing Libraries**: We start by importing the `random` library, which is essential for shuffling the deck of cards.\n",
        "2. **Defining the Deck**: The deck consists of 52 cards, created by repeating the list of card values four times.\n",
        "3. **Shuffling the Deck**: The `random.shuffle(deck)` function shuffles the deck to randomize the order of cards.\n",
        "4. **Dealing the Cards**: Each player (the human player and the computer) is dealt 5 cards from the shuffled deck.\n",
        "5. **Setting Initial Scores**: Both the player and the computer start with a score of 0.\n",
        "6. **Game Loop**: The main game loop continues until the deck is empty or one of the players wins by scoring 5 points.\n",
        "7. **Player's Turn**: The player is prompted to ask for a card. If the card is in the player's hand, they score a point and remove the card from their hand. If not, they \"go fish\" by drawing a card from the deck.\n",
        "8. **Computer's Turn**: The computer randomly selects a card to ask for. The process is similar to the player's turn.\n",
        "9. **Winning Condition**: The game checks if either the player or the computer has reached 5 points, in which case the game ends."
      ]
    },
    {
      "cell_type": "markdown",
      "metadata": {
        "id": "6lNuPs5MmZN_"
      },
      "source": [
        "## Creating an Empty File\n",
        "\n",
        "We will also create an empty text file named `app.txt`."
      ]
    },
    {
      "cell_type": "code",
      "metadata": {
        "id": "VXLVxYfAmZOA",
        "colab": {
          "base_uri": "https://localhost:8080/"
        },
        "outputId": "52c3665a-7197-4fcf-8421-3a5b3fe26b0e"
      },
      "source": [
        "# Creating an empty text file named pharyngitis_detection_in_kids.txt\n",
        "file_name = 'pharyngitis_detection_in_kids.txt'\n",
        "\n",
        "with open(file_name, 'w') as file:\n",
        "    pass\n",
        "\n",
        "print(f\"Created file: {file_name}\")"
      ],
      "execution_count": 17,
      "outputs": [
        {
          "output_type": "stream",
          "name": "stdout",
          "text": [
            "Created file: pharyngitis_detection_in_kids.txt\n"
          ]
        }
      ]
    },
    {
      "cell_type": "markdown",
      "metadata": {
        "id": "_K-Mx8ukmZON"
      },
      "source": [
        "## Interacting with Azure OpenAI Service\n",
        "\n",
        "Finally, we will look at how to interact with the Azure OpenAI service to perform various tasks related to our code."
      ]
    },
    {
      "cell_type": "code",
      "source": [
        "!pip install openai==1.13.3"
      ],
      "metadata": {
        "id": "rhzA2QmInOpt",
        "colab": {
          "base_uri": "https://localhost:8080/"
        },
        "outputId": "7a6a2d4f-70fc-4cb1-d29b-35b84793d560"
      },
      "execution_count": 18,
      "outputs": [
        {
          "output_type": "stream",
          "name": "stdout",
          "text": [
            "Requirement already satisfied: openai==1.13.3 in /usr/local/lib/python3.10/dist-packages (1.13.3)\n",
            "Requirement already satisfied: anyio<5,>=3.5.0 in /usr/local/lib/python3.10/dist-packages (from openai==1.13.3) (3.7.1)\n",
            "Requirement already satisfied: distro<2,>=1.7.0 in /usr/lib/python3/dist-packages (from openai==1.13.3) (1.7.0)\n",
            "Requirement already satisfied: httpx<1,>=0.23.0 in /usr/local/lib/python3.10/dist-packages (from openai==1.13.3) (0.27.2)\n",
            "Requirement already satisfied: pydantic<3,>=1.9.0 in /usr/local/lib/python3.10/dist-packages (from openai==1.13.3) (2.8.2)\n",
            "Requirement already satisfied: sniffio in /usr/local/lib/python3.10/dist-packages (from openai==1.13.3) (1.3.1)\n",
            "Requirement already satisfied: tqdm>4 in /usr/local/lib/python3.10/dist-packages (from openai==1.13.3) (4.66.5)\n",
            "Requirement already satisfied: typing-extensions<5,>=4.7 in /usr/local/lib/python3.10/dist-packages (from openai==1.13.3) (4.12.2)\n",
            "Requirement already satisfied: idna>=2.8 in /usr/local/lib/python3.10/dist-packages (from anyio<5,>=3.5.0->openai==1.13.3) (3.8)\n",
            "Requirement already satisfied: exceptiongroup in /usr/local/lib/python3.10/dist-packages (from anyio<5,>=3.5.0->openai==1.13.3) (1.2.2)\n",
            "Requirement already satisfied: certifi in /usr/local/lib/python3.10/dist-packages (from httpx<1,>=0.23.0->openai==1.13.3) (2024.8.30)\n",
            "Requirement already satisfied: httpcore==1.* in /usr/local/lib/python3.10/dist-packages (from httpx<1,>=0.23.0->openai==1.13.3) (1.0.5)\n",
            "Requirement already satisfied: h11<0.15,>=0.13 in /usr/local/lib/python3.10/dist-packages (from httpcore==1.*->httpx<1,>=0.23.0->openai==1.13.3) (0.14.0)\n",
            "Requirement already satisfied: annotated-types>=0.4.0 in /usr/local/lib/python3.10/dist-packages (from pydantic<3,>=1.9.0->openai==1.13.3) (0.7.0)\n",
            "Requirement already satisfied: pydantic-core==2.20.1 in /usr/local/lib/python3.10/dist-packages (from pydantic<3,>=1.9.0->openai==1.13.3) (2.20.1)\n"
          ]
        }
      ]
    },
    {
      "cell_type": "code",
      "source": [
        "import asyncio\n",
        "from openai import AsyncAzureOpenAI"
      ],
      "metadata": {
        "id": "2nQMKZ8znVLW"
      },
      "execution_count": 19,
      "outputs": []
    },
    {
      "cell_type": "code",
      "metadata": {
        "id": "BmPGJhzpmZOP"
      },
      "source": [
        "\n",
        "\n",
        "# Set to True to print the full response from OpenAI for each call\n",
        "printFullResponse = False\n",
        "\n",
        "async def main():\n",
        "  try:\n",
        "        # Get configuration settings\n",
        "        # Configuration settings\n",
        "        azure_oai_endpoint = \"https://eygroup05.openai.azure.com/\"\n",
        "        azure_oai_key = \"d72887e550304ccf9b2c0cab65867a18\"\n",
        "        azure_oai_deployment = \"pharyngitisChatModel\"\n",
        "\n",
        "        # Configure the Azure OpenAI client\n",
        "        client = AsyncAzureOpenAI(\n",
        "            azure_endpoint = azure_oai_endpoint,\n",
        "            api_key=azure_oai_key,\n",
        "            api_version=\"2024-06-01\"\n",
        "        )\n",
        "\n",
        "        while True:\n",
        "            print('\\n1: Add comments to my function\\n' +\n",
        "                  '2: Write unit tests for my function\\n' +\n",
        "                  '\"quit\" to exit the program\\n')\n",
        "            command = input('Enter a number to select a task:')\n",
        "\n",
        "            if command.lower() == 'quit':\n",
        "                print('Exiting program...')\n",
        "                break\n",
        "\n",
        "            user_input = input('\\nEnter a prompt: ')\n",
        "            if command == '1' or command == '2':\n",
        "                file = open(file=\"pharyngitis_detection_in_kids.py\", encoding=\"utf8\").read()\n",
        "            else :\n",
        "                print(\"Invalid input. Please try again.\")\n",
        "                continue\n",
        "\n",
        "            prompt = user_input + file\n",
        "            await call_openai_model(prompt, model=azure_oai_deployment, client=client)\n",
        "\n",
        "  except Exception as ex:\n",
        "        print(ex)\n",
        "\n",
        "\n"
      ],
      "execution_count": 20,
      "outputs": []
    },
    {
      "cell_type": "code",
      "source": [
        "async def call_openai_model(prompt, model, client):\n",
        "    # Provide a basic user message, and use the prompt content as the user message\n",
        "    system_message = \"You are a helpful AI assistant that helps programmers write code.\"\n",
        "    user_message = prompt\n",
        "\n",
        "    # Format and send the request to the model\n",
        "    messages =[\n",
        "        {\"role\": \"system\", \"content\": system_message},\n",
        "        {\"role\": \"user\", \"content\": user_message},\n",
        "    ]\n",
        "\n",
        "    # Call the Azure OpenAI model\n",
        "    response = await client.chat.completions.create(\n",
        "        model=model,\n",
        "        messages=messages,\n",
        "        temperature=0.7,\n",
        "        max_tokens=1000\n",
        "    )\n",
        "\n",
        "    # Print the response to the console, if desired\n",
        "    if printFullResponse:\n",
        "        print(response)\n",
        "\n",
        "    # Write the response to a file\n",
        "    results_file = open(file=\"pharyngitis_detection_in_kids.txt\", mode=\"w\", encoding=\"utf8\")\n",
        "    results_file.write(response.choices[0].message.content)\n",
        "    print(\"\\nResponse written to result/pharyngitis_detection_in_kids.txt\\n\\n\")\n"
      ],
      "metadata": {
        "id": "t-DWkZ0ImvrZ"
      },
      "execution_count": 21,
      "outputs": []
    },
    {
      "cell_type": "code",
      "source": [
        "# Run the main function in the event loop\n",
        "await main()"
      ],
      "metadata": {
        "id": "tDoRyK1Am3In",
        "colab": {
          "base_uri": "https://localhost:8080/"
        },
        "outputId": "b6dd1992-c897-41b3-af57-a238d6d06c34"
      },
      "execution_count": 22,
      "outputs": [
        {
          "output_type": "stream",
          "name": "stdout",
          "text": [
            "\n",
            "1: Add comments to my function\n",
            "2: Write unit tests for my function\n",
            "\"quit\" to exit the program\n",
            "\n",
            "Enter a number to select a task:1\n",
            "\n",
            "Enter a prompt: Add Comments to each line of code\n",
            "\n",
            "Response written to result/pharyngitis_detection_in_kids.txt\n",
            "\n",
            "\n",
            "\n",
            "1: Add comments to my function\n",
            "2: Write unit tests for my function\n",
            "\"quit\" to exit the program\n",
            "\n",
            "Enter a number to select a task:2\n",
            "\n",
            "Enter a prompt: Add test cases for the code\n",
            "\n",
            "Response written to result/pharyngitis_detection_in_kids.txt\n",
            "\n",
            "\n",
            "\n",
            "1: Add comments to my function\n",
            "2: Write unit tests for my function\n",
            "\"quit\" to exit the program\n",
            "\n",
            "Enter a number to select a task:quit\n",
            "Exiting program...\n"
          ]
        }
      ]
    },
    {
      "cell_type": "code",
      "source": [],
      "metadata": {
        "id": "vJGBuL6Rrds9"
      },
      "execution_count": null,
      "outputs": []
    }
  ],
  "metadata": {
    "kernelspec": {
      "display_name": "Python 3",
      "language": "python",
      "name": "python3"
    },
    "language_info": {
      "codemirror_mode": {
        "name": "ipython",
        "version": 3
      },
      "file_extension": ".py",
      "mimetype": "text/x-python",
      "name": "python",
      "nbconvert_exporter": "python",
      "pygments_lexer": "ipython3",
      "version": "3.8.5"
    },
    "colab": {
      "provenance": [],
      "include_colab_link": true
    }
  },
  "nbformat": 4,
  "nbformat_minor": 0
}