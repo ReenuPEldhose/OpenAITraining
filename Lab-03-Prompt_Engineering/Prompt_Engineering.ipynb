{
  "cells": [
    {
      "cell_type": "markdown",
      "id": "c6860dc8",
      "metadata": {
        "id": "c6860dc8"
      },
      "source": [
        "\n",
        "# Prompt Engineering\n",
        "\n",
        "\n",
        "\n",
        "## Steps Covered in This Notebook:\n",
        "\n",
        "1. Creating an empty text file.\n",
        "2. Configuring the Azure OpenAI client.\n",
        "3. Reading input from the user and system message.\n",
        "4. Making an asynchronous call to the OpenAI model.\n",
        "5. Handling the response from the model.\n",
        "\n",
        "### Import Necessary Libraries\n",
        "\n",
        "First, we need to import the necessary libraries, including asyncio for asynchronous programming and the Azure OpenAI package.\n",
        "    "
      ]
    },
    {
      "cell_type": "code",
      "execution_count": 2,
      "id": "76ze6mPDOzY7",
      "metadata": {
        "id": "76ze6mPDOzY7",
        "outputId": "76e916fc-0e8b-4c40-e532-664449f36a58",
        "colab": {
          "base_uri": "https://localhost:8080/"
        }
      },
      "outputs": [
        {
          "output_type": "stream",
          "name": "stdout",
          "text": [
            "Requirement already satisfied: openai==1.13.3 in /usr/local/lib/python3.10/dist-packages (1.13.3)\n",
            "Requirement already satisfied: anyio<5,>=3.5.0 in /usr/local/lib/python3.10/dist-packages (from openai==1.13.3) (3.7.1)\n",
            "Requirement already satisfied: distro<2,>=1.7.0 in /usr/lib/python3/dist-packages (from openai==1.13.3) (1.7.0)\n",
            "Requirement already satisfied: httpx<1,>=0.23.0 in /usr/local/lib/python3.10/dist-packages (from openai==1.13.3) (0.27.2)\n",
            "Requirement already satisfied: pydantic<3,>=1.9.0 in /usr/local/lib/python3.10/dist-packages (from openai==1.13.3) (2.8.2)\n",
            "Requirement already satisfied: sniffio in /usr/local/lib/python3.10/dist-packages (from openai==1.13.3) (1.3.1)\n",
            "Requirement already satisfied: tqdm>4 in /usr/local/lib/python3.10/dist-packages (from openai==1.13.3) (4.66.5)\n",
            "Requirement already satisfied: typing-extensions<5,>=4.7 in /usr/local/lib/python3.10/dist-packages (from openai==1.13.3) (4.12.2)\n",
            "Requirement already satisfied: idna>=2.8 in /usr/local/lib/python3.10/dist-packages (from anyio<5,>=3.5.0->openai==1.13.3) (3.8)\n",
            "Requirement already satisfied: exceptiongroup in /usr/local/lib/python3.10/dist-packages (from anyio<5,>=3.5.0->openai==1.13.3) (1.2.2)\n",
            "Requirement already satisfied: certifi in /usr/local/lib/python3.10/dist-packages (from httpx<1,>=0.23.0->openai==1.13.3) (2024.8.30)\n",
            "Requirement already satisfied: httpcore==1.* in /usr/local/lib/python3.10/dist-packages (from httpx<1,>=0.23.0->openai==1.13.3) (1.0.5)\n",
            "Requirement already satisfied: h11<0.15,>=0.13 in /usr/local/lib/python3.10/dist-packages (from httpcore==1.*->httpx<1,>=0.23.0->openai==1.13.3) (0.14.0)\n",
            "Requirement already satisfied: annotated-types>=0.4.0 in /usr/local/lib/python3.10/dist-packages (from pydantic<3,>=1.9.0->openai==1.13.3) (0.7.0)\n",
            "Requirement already satisfied: pydantic-core==2.20.1 in /usr/local/lib/python3.10/dist-packages (from pydantic<3,>=1.9.0->openai==1.13.3) (2.20.1)\n"
          ]
        }
      ],
      "source": [
        "!pip install openai==1.13.3"
      ]
    },
    {
      "cell_type": "code",
      "execution_count": 3,
      "id": "121e4681",
      "metadata": {
        "id": "121e4681"
      },
      "outputs": [],
      "source": [
        "\n",
        "import asyncio\n",
        "from openai import AsyncAzureOpenAI\n"
      ]
    },
    {
      "cell_type": "markdown",
      "id": "1d10f211",
      "metadata": {
        "id": "1d10f211"
      },
      "source": [
        "\n",
        "### Creating an Empty Text File\n",
        "\n",
        "Next, we create an empty text file named `system.txt`.\n",
        "    "
      ]
    },
    {
      "cell_type": "code",
      "execution_count": 4,
      "id": "1a1d72bf",
      "metadata": {
        "id": "1a1d72bf",
        "outputId": "841ea2da-caa9-4c90-ab8a-2e1a96bd27e0",
        "colab": {
          "base_uri": "https://localhost:8080/"
        }
      },
      "outputs": [
        {
          "output_type": "stream",
          "name": "stdout",
          "text": [
            "Created file: system.txt\n"
          ]
        }
      ],
      "source": [
        "\n",
        "# Creating an empty text file named system.txt\n",
        "file_name = 'system.txt'\n",
        "\n",
        "with open(file_name, 'w') as file:\n",
        "    pass\n",
        "\n",
        "print(f\"Created file: {file_name}\")\n"
      ]
    },
    {
      "cell_type": "markdown",
      "id": "e06e92ff",
      "metadata": {
        "id": "e06e92ff"
      },
      "source": [
        "\n",
        "### Setting Configuration and Client Initialization\n",
        "\n",
        "We will now set the configuration for the Azure OpenAI service, including the endpoint, API key, and deployment name.\n",
        "    "
      ]
    },
    {
      "cell_type": "code",
      "execution_count": 5,
      "id": "1068e837",
      "metadata": {
        "id": "1068e837",
        "outputId": "03f54793-f3dd-4f91-df8a-1141e32192f5",
        "colab": {
          "base_uri": "https://localhost:8080/"
        }
      },
      "outputs": [
        {
          "output_type": "stream",
          "name": "stdout",
          "text": [
            "Azure OpenAI client configured.\n"
          ]
        }
      ],
      "source": [
        "\n",
        "# Configuration settings\n",
        "azure_oai_endpoint = \"https://eyuser19.openai.azure.com/\"\n",
        "azure_oai_key = \"db5a62ba86d44900973aa98f7aca456c\"\n",
        "azure_oai_deployment = \"GenAIGPT\"\n",
        "\n",
        "# Configure the Azure OpenAI client\n",
        "client = AsyncAzureOpenAI(\n",
        "    azure_endpoint=azure_oai_endpoint,\n",
        "    api_key=azure_oai_key,\n",
        "    api_version=\"2024-02-15-preview\"\n",
        ")\n",
        "\n",
        "print(\"Azure OpenAI client configured.\")\n"
      ]
    },
    {
      "cell_type": "markdown",
      "id": "758d52f0",
      "metadata": {
        "id": "758d52f0"
      },
      "source": [
        "\n",
        "### Defining the Main Function\n",
        "\n",
        "The `main` function will handle user input and interact with the Azure OpenAI model.\n",
        "    "
      ]
    },
    {
      "cell_type": "code",
      "execution_count": 6,
      "id": "b239867c",
      "metadata": {
        "id": "b239867c"
      },
      "outputs": [],
      "source": [
        "\n",
        "# Set to True to print the full response from OpenAI for each call\n",
        "printFullResponse = False\n",
        "\n",
        "async def main():\n",
        "    try:\n",
        "        while True:\n",
        "            # Pause the app to allow the user to enter the system prompt\n",
        "            print(\"------------------Pausing the app to allow you to change the system prompt in system.txt file, Press anything then enter to continue...\")\n",
        "            input()\n",
        "\n",
        "            # Read in system message and prompt for user message\n",
        "            system_text = open(file=\"/content/system.txt\", encoding=\"utf8\").read().strip()\n",
        "            user_text = input(\"Enter user message: \")\n",
        "            if user_text.lower() == 'quit' or system_text.lower() == 'quit':\n",
        "                print('Exiting program...')\n",
        "                break\n",
        "\n",
        "            await call_openai_model(system_message=system_text,\n",
        "                                    user_message=user_text,\n",
        "                                    model=azure_oai_deployment,\n",
        "                                    client=client)\n",
        "\n",
        "    except Exception as ex:\n",
        "        print(ex)\n"
      ]
    },
    {
      "cell_type": "markdown",
      "id": "gSTDMXvwweyt",
      "metadata": {
        "id": "gSTDMXvwweyt"
      },
      "source": [
        "**In the next step, we will create a txt file named grouding.txt that serves as grounding text for our model**"
      ]
    },
    {
      "cell_type": "code",
      "execution_count": 7,
      "id": "ByGeXebBtXwd",
      "metadata": {
        "id": "ByGeXebBtXwd",
        "outputId": "95f8e9a9-87ab-4111-cf2f-05720b9a5fbd",
        "colab": {
          "base_uri": "https://localhost:8080/"
        }
      },
      "outputs": [
        {
          "output_type": "stream",
          "name": "stdout",
          "text": [
            "Created file: grounding.txt\n"
          ]
        }
      ],
      "source": [
        "grounding_text = \"\"\"\n",
        "---\n",
        "\n",
        "Contoso is a wildlife rescue organization that has dedicated itself to the protection and preservation of animals and their habitats. The organization has been working tirelessly to protect the wildlife and their habitats from the threat of extinction. Contoso's mission is to provide a safe and healthy environment for all animals in their care.\n",
        "\n",
        "One of the most popular animals that Contoso rescues and cares for is the red panda. Known for their fluffy tails and adorable faces, red pandas have captured the hearts of children all over the world. These playful creatures are native to the Himalayas and are listed as endangered due to habitat loss and poaching.\n",
        "\n",
        "Contoso's red panda rescue program is one of their most successful initiatives. The organization works with local communities to protect the red panda's natural habitat and provides medical care for those that are rescued. Contoso's team of experts works tirelessly to ensure that all rescued red pandas receive the best possible care and are eventually released back into the wild.\n",
        "\n",
        "Children, in particular, have a soft spot for red pandas. These playful creatures are often featured in children's books, cartoons, and movies. With their fluffy tails and bright eyes, it's easy to see why children are drawn to them. Contoso understands this and has made it their mission to educate children about the importance of wildlife conservation and the role they can play in protecting these endangered species.\n",
        "\n",
        "Contoso's red panda rescue program is not only helping to save these adorable creatures from extinction but is also providing a unique opportunity for children to learn about wildlife conservation. The organization offers educational programs and tours that allow children to get up close and personal with the red pandas. These programs are designed to teach children about the importance of protecting wildlife and their habitats.\n",
        "\n",
        "In addition to their red panda rescue program, Contoso also rescues and cares for a variety of other animals, including elephants, tigers, and rhinoceros. The organization is committed to protecting all animals in their care and works tirelessly to provide them with a safe and healthy environment.\n",
        "---\n",
        "\n",
        "\"\"\"\n",
        "\n",
        "with open('grounding.txt', 'w') as file:\n",
        "    file.write(grounding_text)\n",
        "\n",
        "print(\"Created file: grounding.txt\")\n"
      ]
    },
    {
      "cell_type": "markdown",
      "id": "bdfd7d99",
      "metadata": {
        "id": "bdfd7d99"
      },
      "source": [
        "\n",
        "### Defining the Call to the OpenAI Model\n",
        "\n",
        "The `call_openai_model` function formats the request and sends it to the OpenAI model.\n",
        "    "
      ]
    },
    {
      "cell_type": "code",
      "execution_count": 8,
      "id": "eb8d5b92",
      "metadata": {
        "id": "eb8d5b92"
      },
      "outputs": [],
      "source": [
        "\n",
        "async def call_openai_model(system_message, user_message, model, client):\n",
        "    # Format and send the request to the model\n",
        "    print(\"Adding grounding context from grounding.txt\")\n",
        "    grounding_text = open(file=\"/content/grounding.txt\", encoding=\"utf8\").read().strip()\n",
        "    user_message = grounding_text + user_message\n",
        "    messages = [\n",
        "        {\"role\": \"system\", \"content\": system_message},\n",
        "        {\"role\": \"user\", \"content\": user_message},\n",
        "        ]\n",
        "    print(\"Sending request to Azure OpenAI model...\")\n",
        "    # Call the Azure OpenAI model\n",
        "    response = await client.chat.completions.create(\n",
        "        model=model,\n",
        "        messages=messages,\n",
        "        temperature=0.7,\n",
        "        max_tokens=800\n",
        "    )\n",
        "\n",
        "    if printFullResponse:\n",
        "        print(response)\n",
        "\n",
        "    print(\"Response:\" + response.choices[0].message.content + \"\\n\")\n"
      ]
    },
    {
      "cell_type": "markdown",
      "id": "7d0f1faf",
      "metadata": {
        "id": "7d0f1faf"
      },
      "source": [
        "\n",
        "### Running the Main Function\n",
        "\n",
        "Finally, we run the `main` function within the current event loop.\n",
        "    "
      ]
    },
    {
      "cell_type": "code",
      "execution_count": 9,
      "id": "GQcnSh0kvGwb",
      "metadata": {
        "id": "GQcnSh0kvGwb",
        "outputId": "281396b3-19bd-4416-e0d8-3da7d0669950",
        "colab": {
          "base_uri": "https://localhost:8080/"
        }
      },
      "outputs": [
        {
          "output_type": "stream",
          "name": "stdout",
          "text": [
            "------------------Pausing the app to allow you to change the system prompt in system.txt file, Press anything then enter to continue...\n",
            "..\n",
            "Enter user message: What animal is the favorite of children at Contoso?\n",
            "Adding grounding context from grounding.txt\n",
            "Sending request to Azure OpenAI model...\n",
            "Response:The favorite animal of children at Contoso is the red panda.\n",
            "\n",
            "------------------Pausing the app to allow you to change the system prompt in system.txt file, Press anything then enter to continue...\n",
            "Relevance of Open AI\n",
            "Enter user message: Relevance Open AI\n",
            "Adding grounding context from grounding.txt\n",
            "Sending request to Azure OpenAI model...\n",
            "Response:Contoso's work as a wildlife rescue organization is highly relevant in today's world, where the threat of extinction looms over many animal species. Their dedication to protecting and preserving animals and their habitats aligns with the growing global awareness of the need for conservation efforts.\n",
            "\n",
            "The focus on red pandas in Contoso's rescue program highlights the importance of protecting endangered species. By working with local communities and providing medical care for rescued red pandas, Contoso demonstrates a comprehensive approach to conservation that encompasses both habitat preservation and animal welfare.\n",
            "\n",
            "By involving children in their educational programs and tours, Contoso not only raises awareness about wildlife conservation but also instills a sense of responsibility in the younger generation. This emphasis on education and engagement is crucial in fostering a culture of environmental stewardship and ensuring the long-term success of conservation efforts.\n",
            "\n",
            "Contoso's commitment to rescuing and caring for a variety of animals further underscores their dedication to protecting all species. By addressing the needs of elephants, tigers, and rhinoceros, among others, Contoso recognizes the interconnectedness of ecosystems and the importance of preserving biodiversity.\n",
            "\n",
            "In summary, Contoso's work as a wildlife rescue organization is highly relevant as it addresses the pressing issue of species extinction and habitat loss. Their focus on red pandas and involvement of children in educational programs exemplify a comprehensive approach to conservation. By caring for a variety of animals, Contoso acknowledges the importance of biodiversity preservation.\n",
            "\n",
            "------------------Pausing the app to allow you to change the system prompt in system.txt file, Press anything then enter to continue...\n",
            "Relevance of AI\n",
            "Enter user message: Relevance of AI\n",
            "Adding grounding context from grounding.txt\n",
            "Sending request to Azure OpenAI model...\n",
            "Response:The relevance of AI in this context is not explicitly mentioned in the provided text. However, AI can play a role in wildlife conservation efforts. For example, AI-powered drones can be used for monitoring wildlife populations, tracking animal movements, and detecting illegal activities such as poaching. Additionally, AI algorithms can be utilized to analyze large amounts of data to gain insights into animal behavior, habitat preservation, and conservation strategies.\n",
            "\n",
            "------------------Pausing the app to allow you to change the system prompt in system.txt file, Press anything then enter to continue...\n",
            "quit\n",
            "Enter user message: quit\n",
            "Exiting program...\n"
          ]
        }
      ],
      "source": [
        "\n",
        "# Run the main function in the event loop\n",
        "await main()\n"
      ]
    }
  ],
  "metadata": {
    "colab": {
      "provenance": []
    },
    "kernelspec": {
      "display_name": "Python 3",
      "name": "python3"
    },
    "language_info": {
      "name": "python",
      "version": "3.11.9"
    }
  },
  "nbformat": 4,
  "nbformat_minor": 5
}